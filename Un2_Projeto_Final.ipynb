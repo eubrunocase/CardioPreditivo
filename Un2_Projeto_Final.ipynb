{
  "nbformat": 4,
  "nbformat_minor": 0,
  "metadata": {
    "colab": {
      "provenance": [],
      "history_visible": true
    },
    "kernelspec": {
      "name": "python3",
      "display_name": "Python 3"
    },
    "language_info": {
      "name": "python"
    }
  },
  "cells": [
    {
      "cell_type": "code",
      "execution_count": null,
      "metadata": {
        "colab": {
          "base_uri": "https://localhost:8080/"
        },
        "id": "DP8RmV4LoShB",
        "outputId": "d2958da8-23f4-4b73-fcb2-d0bb507ed97e"
      },
      "outputs": [
        {
          "output_type": "stream",
          "name": "stdout",
          "text": [
            "Requirement already satisfied: scikit-learn in /usr/local/lib/python3.11/dist-packages (1.6.1)\n",
            "Requirement already satisfied: pandas in /usr/local/lib/python3.11/dist-packages (2.2.2)\n",
            "Requirement already satisfied: numpy in /usr/local/lib/python3.11/dist-packages (2.0.2)\n",
            "Requirement already satisfied: ucimlrepo in /usr/local/lib/python3.11/dist-packages (0.0.7)\n",
            "Requirement already satisfied: scipy>=1.6.0 in /usr/local/lib/python3.11/dist-packages (from scikit-learn) (1.15.2)\n",
            "Requirement already satisfied: joblib>=1.2.0 in /usr/local/lib/python3.11/dist-packages (from scikit-learn) (1.4.2)\n",
            "Requirement already satisfied: threadpoolctl>=3.1.0 in /usr/local/lib/python3.11/dist-packages (from scikit-learn) (3.6.0)\n",
            "Requirement already satisfied: python-dateutil>=2.8.2 in /usr/local/lib/python3.11/dist-packages (from pandas) (2.9.0.post0)\n",
            "Requirement already satisfied: pytz>=2020.1 in /usr/local/lib/python3.11/dist-packages (from pandas) (2025.2)\n",
            "Requirement already satisfied: tzdata>=2022.7 in /usr/local/lib/python3.11/dist-packages (from pandas) (2025.2)\n",
            "Requirement already satisfied: certifi>=2020.12.5 in /usr/local/lib/python3.11/dist-packages (from ucimlrepo) (2025.4.26)\n",
            "Requirement already satisfied: six>=1.5 in /usr/local/lib/python3.11/dist-packages (from python-dateutil>=2.8.2->pandas) (1.17.0)\n"
          ]
        }
      ],
      "source": [
        "!pip install scikit-learn pandas numpy ucimlrepo"
      ]
    },
    {
      "cell_type": "code",
      "source": [
        "# --- Imports ---\n",
        "\n",
        "import pandas as pd\n",
        "import numpy as np\n",
        "from ucimlrepo import fetch_ucirepo\n",
        "from sklearn.model_selection import StratifiedKFold, cross_val_score\n",
        "from sklearn.pipeline import Pipeline\n",
        "from sklearn.compose import ColumnTransformer\n",
        "from sklearn.preprocessing import OneHotEncoder, StandardScaler, MinMaxScaler\n",
        "from sklearn.impute import SimpleImputer\n",
        "from sklearn.feature_selection import SelectKBest, chi2\n",
        "from sklearn.svm import SVC\n",
        "from sklearn.tree import DecisionTreeClassifier\n",
        "from sklearn.metrics import make_scorer, accuracy_score, precision_score, recall_score"
      ],
      "metadata": {
        "id": "6ROa7iuSD7ZB"
      },
      "execution_count": null,
      "outputs": []
    },
    {
      "cell_type": "code",
      "source": [
        "# --- 1. Carregamento da base de dados ---\n",
        "heart_disease = fetch_ucirepo(id=45)\n",
        "X = heart_disease.data.features.copy()\n",
        "y = heart_disease.data.targets['num']"
      ],
      "metadata": {
        "id": "NVR5raS2EBGV"
      },
      "execution_count": null,
      "outputs": []
    },
    {
      "cell_type": "code",
      "source": [
        "# --- 2. Selecionar colunas relevantes (14 atributos) ---\n",
        "categorical_cols = ['sex', 'cp', 'fbs', 'restecg', 'exang', 'slope', 'thal']\n",
        "numeric_cols = ['age', 'trestbps', 'chol', 'thalach', 'oldpeak', 'ca']\n",
        "\n",
        "# --- 3. Pré-processamento ---\n",
        "\n",
        "# Numéricos: imputação + normalização\n",
        "numeric_pipeline = Pipeline(steps=[\n",
        "    ('imputer', SimpleImputer(strategy='mean')),\n",
        "    ('scaler', MinMaxScaler())\n",
        "])\n",
        "\n",
        "# Categóricos: imputação + codificação\n",
        "categorical_pipeline = Pipeline(steps=[\n",
        "    ('imputer', SimpleImputer(strategy='most_frequent')),\n",
        "    ('onehot', OneHotEncoder(handle_unknown='ignore'))\n",
        "])\n",
        "\n",
        "# Combinar ambos os pipelines\n",
        "preprocessor = ColumnTransformer(transformers=[\n",
        "    ('num', numeric_pipeline, numeric_cols),\n",
        "    ('cat', categorical_pipeline, categorical_cols)\n",
        "])\n"
      ],
      "metadata": {
        "id": "dpJ6ZpxOR9Ez"
      },
      "execution_count": null,
      "outputs": []
    },
    {
      "cell_type": "code",
      "source": [
        "# --- 4. Pipeline completo: pré-processamento + seleção de características ---\n",
        "full_pipeline = Pipeline(steps=[\n",
        "    ('preprocessing', preprocessor),\n",
        "    ('feature_selection', SelectKBest(score_func=chi2, k=6))\n",
        "    # Seleção de K melhores atributos\n",
        "])\n",
        "\n",
        "# Aplicar o pipeline e transformar os dados\n",
        "X_preprocessed = full_pipeline.fit_transform(X, y)"
      ],
      "metadata": {
        "id": "AueR_myaV7Ow"
      },
      "execution_count": null,
      "outputs": []
    },
    {
      "cell_type": "code",
      "source": [
        "# --- 5. Definição dos classificadores ---\n",
        "classifiers = {\n",
        "    'SVM (RBF)': SVC(kernel='rbf', random_state=42),\n",
        "    'Decision Tree': DecisionTreeClassifier(random_state=42)\n",
        "}"
      ],
      "metadata": {
        "id": "f4Ftum3bV7XC"
      },
      "execution_count": null,
      "outputs": []
    },
    {
      "cell_type": "code",
      "source": [
        "# --- 6. Avaliação com validação cruzada (k=5) e múltiplas métricas ---\n",
        "cv = StratifiedKFold(n_splits=5, shuffle=True, random_state=42)\n",
        "\n",
        "# Métricas de avaliação\n",
        "scoring = {\n",
        "    'Acurácia': make_scorer(accuracy_score),\n",
        "    'Precisão': make_scorer(precision_score, average='macro', zero_division=0),\n",
        "    'Recall': make_scorer(recall_score, average='macro', zero_division=0)\n",
        "}\n"
      ],
      "metadata": {
        "id": "mhjqZNF4kiYH"
      },
      "execution_count": null,
      "outputs": []
    },
    {
      "cell_type": "code",
      "source": [
        "# --- 7. Executar avaliação ---\n",
        "print(\"=== Avaliação dos Classificadores (k-fold = 5) ===\")\n",
        "for name, model in classifiers.items():\n",
        "    print(f\"\\n{name}:\")\n",
        "    for metric, scorer in scoring.items():\n",
        "        scores = cross_val_score(model, X_preprocessed, y, cv=cv, scoring=scorer)\n",
        "        print(f\"  {metric}: {scores.mean():.4f}\")"
      ],
      "metadata": {
        "colab": {
          "base_uri": "https://localhost:8080/"
        },
        "id": "R7UJlOIRkinj",
        "outputId": "08e516dc-dee6-48b5-d7bb-244ea05dfd69"
      },
      "execution_count": null,
      "outputs": [
        {
          "output_type": "stream",
          "name": "stdout",
          "text": [
            "=== Avaliação dos Classificadores (k-fold = 5) ===\n",
            "\n",
            "SVM (RBF):\n",
            "  Acurácia: 0.5875\n",
            "  Precisão: 0.2854\n",
            "  Recall: 0.3107\n",
            "\n",
            "Decision Tree:\n",
            "  Acurácia: 0.5578\n",
            "  Precisão: 0.3565\n",
            "  Recall: 0.3307\n"
          ]
        }
      ]
    },
    {
      "cell_type": "markdown",
      "source": [
        "```.md\n",
        "=== Avaliação dos Classificadores (k-fold = 5) ===\n",
        "\n",
        "SVM (RBF):\n",
        "  Acurácia: 0.5875\n",
        "  Precisão: 0.2854\n",
        "  Recall: 0.3107\n",
        "\n",
        "Decision Tree:\n",
        "  Acurácia: 0.5578\n",
        "  Precisão: 0.3565\n",
        "  Recall: 0.3307\n",
        "\n",
        "```\n",
        "\n"
      ],
      "metadata": {
        "id": "9U0mLNfe47te"
      }
    }
  ]
}